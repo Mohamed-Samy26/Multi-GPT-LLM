{
  "nbformat": 4,
  "nbformat_minor": 0,
  "metadata": {
    "colab": {
      "provenance": [],
      "gpuType": "T4"
    },
    "kernelspec": {
      "name": "python3",
      "display_name": "Python 3"
    },
    "language_info": {
      "name": "python"
    },
    "accelerator": "GPU"
  },
  "cells": [
    {
      "cell_type": "code",
      "source": [
        "import locale\n",
        "def getpreferredencoding(do_setlocale = True):\n",
        "    return \"UTF-8\"\n",
        "locale.getpreferredencoding = getpreferredencoding"
      ],
      "metadata": {
        "id": "RKS6HSGmltrE"
      },
      "execution_count": 13,
      "outputs": []
    },
    {
      "cell_type": "code",
      "source": [
        "! pip install flash-attn --no-build-isolation\n",
        "! pip install langdetect nltk"
      ],
      "metadata": {
        "colab": {
          "base_uri": "https://localhost:8080/"
        },
        "id": "JRFN5bi_mJgo",
        "outputId": "e93ba975-4d8a-45ab-db2e-117867e100ac"
      },
      "execution_count": 14,
      "outputs": [
        {
          "output_type": "stream",
          "name": "stdout",
          "text": [
            "Requirement already satisfied: flash-attn in /usr/local/lib/python3.10/dist-packages (2.5.7)\n",
            "Requirement already satisfied: torch in /usr/local/lib/python3.10/dist-packages (from flash-attn) (2.2.1+cu121)\n",
            "Requirement already satisfied: einops in /usr/local/lib/python3.10/dist-packages (from flash-attn) (0.7.0)\n",
            "Requirement already satisfied: packaging in /usr/local/lib/python3.10/dist-packages (from flash-attn) (24.0)\n",
            "Requirement already satisfied: ninja in /usr/local/lib/python3.10/dist-packages (from flash-attn) (1.11.1.1)\n",
            "Requirement already satisfied: filelock in /usr/local/lib/python3.10/dist-packages (from torch->flash-attn) (3.13.4)\n",
            "Requirement already satisfied: typing-extensions>=4.8.0 in /usr/local/lib/python3.10/dist-packages (from torch->flash-attn) (4.11.0)\n",
            "Requirement already satisfied: sympy in /usr/local/lib/python3.10/dist-packages (from torch->flash-attn) (1.12)\n",
            "Requirement already satisfied: networkx in /usr/local/lib/python3.10/dist-packages (from torch->flash-attn) (3.3)\n",
            "Requirement already satisfied: jinja2 in /usr/local/lib/python3.10/dist-packages (from torch->flash-attn) (3.1.3)\n",
            "Requirement already satisfied: fsspec in /usr/local/lib/python3.10/dist-packages (from torch->flash-attn) (2023.6.0)\n",
            "Requirement already satisfied: nvidia-cuda-nvrtc-cu12==12.1.105 in /usr/local/lib/python3.10/dist-packages (from torch->flash-attn) (12.1.105)\n",
            "Requirement already satisfied: nvidia-cuda-runtime-cu12==12.1.105 in /usr/local/lib/python3.10/dist-packages (from torch->flash-attn) (12.1.105)\n",
            "Requirement already satisfied: nvidia-cuda-cupti-cu12==12.1.105 in /usr/local/lib/python3.10/dist-packages (from torch->flash-attn) (12.1.105)\n",
            "Requirement already satisfied: nvidia-cudnn-cu12==8.9.2.26 in /usr/local/lib/python3.10/dist-packages (from torch->flash-attn) (8.9.2.26)\n",
            "Requirement already satisfied: nvidia-cublas-cu12==12.1.3.1 in /usr/local/lib/python3.10/dist-packages (from torch->flash-attn) (12.1.3.1)\n",
            "Requirement already satisfied: nvidia-cufft-cu12==11.0.2.54 in /usr/local/lib/python3.10/dist-packages (from torch->flash-attn) (11.0.2.54)\n",
            "Requirement already satisfied: nvidia-curand-cu12==10.3.2.106 in /usr/local/lib/python3.10/dist-packages (from torch->flash-attn) (10.3.2.106)\n",
            "Requirement already satisfied: nvidia-cusolver-cu12==11.4.5.107 in /usr/local/lib/python3.10/dist-packages (from torch->flash-attn) (11.4.5.107)\n",
            "Requirement already satisfied: nvidia-cusparse-cu12==12.1.0.106 in /usr/local/lib/python3.10/dist-packages (from torch->flash-attn) (12.1.0.106)\n",
            "Requirement already satisfied: nvidia-nccl-cu12==2.19.3 in /usr/local/lib/python3.10/dist-packages (from torch->flash-attn) (2.19.3)\n",
            "Requirement already satisfied: nvidia-nvtx-cu12==12.1.105 in /usr/local/lib/python3.10/dist-packages (from torch->flash-attn) (12.1.105)\n",
            "Requirement already satisfied: triton==2.2.0 in /usr/local/lib/python3.10/dist-packages (from torch->flash-attn) (2.2.0)\n",
            "Requirement already satisfied: nvidia-nvjitlink-cu12 in /usr/local/lib/python3.10/dist-packages (from nvidia-cusolver-cu12==11.4.5.107->torch->flash-attn) (12.4.127)\n",
            "Requirement already satisfied: MarkupSafe>=2.0 in /usr/local/lib/python3.10/dist-packages (from jinja2->torch->flash-attn) (2.1.5)\n",
            "Requirement already satisfied: mpmath>=0.19 in /usr/local/lib/python3.10/dist-packages (from sympy->torch->flash-attn) (1.3.0)\n",
            "Requirement already satisfied: langdetect in /usr/local/lib/python3.10/dist-packages (1.0.9)\n",
            "Requirement already satisfied: nltk in /usr/local/lib/python3.10/dist-packages (3.8.1)\n",
            "Requirement already satisfied: six in /usr/local/lib/python3.10/dist-packages (from langdetect) (1.16.0)\n",
            "Requirement already satisfied: click in /usr/local/lib/python3.10/dist-packages (from nltk) (8.1.7)\n",
            "Requirement already satisfied: joblib in /usr/local/lib/python3.10/dist-packages (from nltk) (1.4.0)\n",
            "Requirement already satisfied: regex>=2021.8.3 in /usr/local/lib/python3.10/dist-packages (from nltk) (2023.12.25)\n",
            "Requirement already satisfied: tqdm in /usr/local/lib/python3.10/dist-packages (from nltk) (4.66.2)\n"
          ]
        }
      ]
    },
    {
      "cell_type": "code",
      "source": [
        "from transformers import WhisperProcessor, WhisperForConditionalGeneration, pipeline\n",
        "import torch\n",
        "import torchaudio\n",
        "import os\n",
        "import numpy as np\n",
        "from langdetect import detect\n",
        "import nltk\n",
        "\n",
        "DEVICE = \"cuda\" if torch.cuda.is_available() else \"cpu\"\n",
        "\n",
        "def setPipeLine(size:str = 'large-v3'):\n",
        "  model= \"openai/whisper-\" + size\n",
        "  return pipeline(\n",
        "    \"automatic-speech-recognition\",\n",
        "    model=model,\n",
        "    chunk_length_s=30,\n",
        "    device=DEVICE,\n",
        "    generate_kwargs={\"task\": \"translate\"}\n",
        "  )\n",
        "\n",
        "tts_pipe = setPipeLine() # tiny, base, small, medium, large, large-v2, large-v3 (default)\n",
        "\n",
        "nltk.download('punkt')\n",
        "ar_en_pipe = pipeline(\"translation\", model=\"Helsinki-NLP/opus-mt-ar-en\")\n",
        "en_ar_pipe = pipeline(\"translation\", model=\"Helsinki-NLP/opus-mt-en-ar\")"
      ],
      "metadata": {
        "colab": {
          "base_uri": "https://localhost:8080/"
        },
        "id": "Jbe_6jGemmYh",
        "outputId": "bf308a73-9285-425c-b9fa-4dec9a05728a"
      },
      "execution_count": 15,
      "outputs": [
        {
          "output_type": "stream",
          "name": "stderr",
          "text": [
            "Special tokens have been added in the vocabulary, make sure the associated word embeddings are fine-tuned or trained.\n",
            "[nltk_data] Downloading package punkt to /root/nltk_data...\n",
            "[nltk_data]   Unzipping tokenizers/punkt.zip.\n",
            "/usr/local/lib/python3.10/dist-packages/transformers/models/marian/tokenization_marian.py:197: UserWarning: Recommended: pip install sacremoses.\n",
            "  warnings.warn(\"Recommended: pip install sacremoses.\")\n"
          ]
        }
      ]
    },
    {
      "cell_type": "code",
      "source": [
        "def speech2txt(audio_path):\n",
        "    # Load the audio using torchaudio\n",
        "    waveform, sample_rate = torchaudio.load(audio_path)\n",
        "\n",
        "    # Convert stereo to mono\n",
        "    if waveform.shape[0] > 1:\n",
        "        waveform = waveform[0].unsqueeze(0)  # Keep the first channel and add a new dimension\n",
        "        # waveform = torch.mean(waveform, dim=0, keepdim=True)  # Another method: Average across channels\n",
        "\n",
        "    # Resample waveform if necessary\n",
        "    if sample_rate != 16000:\n",
        "        waveform = torchaudio.transforms.Resample(sample_rate, 16000)(waveform)\n",
        "    # drop extra dimensions\n",
        "    waveform = waveform.squeeze().numpy()\n",
        "    # Generate token ids\n",
        "    transcription = tts_pipe(waveform, batch_size=8)\n",
        "    return transcription['text']\n",
        "\n",
        "def split_text(text, max_segment_length = 480):\n",
        "    segments = []\n",
        "    sentences = nltk.sent_tokenize(text)  # Sentence segmentation\n",
        "    current_segment = ''\n",
        "    for sentence in sentences:\n",
        "        if len(current_segment) + len(sentence) < max_segment_length:\n",
        "            current_segment += sentence + ' '\n",
        "        else:\n",
        "            segments.append(current_segment.strip())\n",
        "            current_segment = sentence + ' '\n",
        "    if current_segment:\n",
        "        segments.append(current_segment.strip())\n",
        "    return segments\n",
        "\n",
        "# Function to translate segments\n",
        "def translate_segments(segments, pipe):\n",
        "    translated_segments = []\n",
        "    for segment in segments:\n",
        "        translation = pipe(segment)[0]['translation_text']\n",
        "        translated_segments.append(translation)\n",
        "    return ''.join(translated_segments)\n",
        "\n",
        "def en2ar(text:str):\n",
        "  return translate_segments(split_text(text), en_ar_pipe)\n",
        "\n",
        "def ar2en(text:str):\n",
        "  return translate_segments(split_text(text), ar_en_pipe)\n"
      ],
      "metadata": {
        "id": "mUe7EJC3mmOg"
      },
      "execution_count": 28,
      "outputs": []
    },
    {
      "cell_type": "code",
      "source": [
        "! curl 'https://archive.org/download/06-arabicSpeechByAsh-sheikhR/06-arabicSpeechByAsh-sheikhRameezazhariAtConvocationCeremony2014OfAl-azhariyyahArabicCollegeMadigeGalagedara-Www.tamilbayans.com.mp3?tunnel=1'   -H 'accept: */*'   -H 'accept-language: ar-EG,ar;q=0.9,en-US;q=0.8,en;q=0.7'   -H 'cache-control: no-cache'   -H 'cookie: donation-identifier=b594d465f2f3aa927c06e9619e87a22a; abtest-identifier=619d9b93ea958a3d7fc567b88f81f352; PHPSESSID=2g0nr4updves43r0b2ogckpmub'   -H 'pragma: no-cache'   -H 'range: bytes=0-'   -H 'referer: https://archive.org/details/06-arabicSpeechByAsh-sheikhR?webamp=default'   -H 'sec-ch-ua: \"Google Chrome\";v=\"123\", \"Not:A-Brand\";v=\"8\", \"Chromium\";v=\"123\"'   -H 'sec-ch-ua-mobile: ?0'   -H 'sec-ch-ua-platform: \"Windows\"'   -H 'sec-fetch-dest: audio'   -H 'sec-fetch-mode: cors'   -H 'sec-fetch-site: same-origin'   -H 'user-agent: Mozilla/5.0 (Windows NT 10.0; Win64; x64) AppleWebKit/537.36 (KHTML, like Gecko) Chrome/123.0.0.0 Safari/537.36' -o ./test.mp3"
      ],
      "metadata": {
        "colab": {
          "base_uri": "https://localhost:8080/"
        },
        "id": "XxwsMVJdPw2k",
        "outputId": "e924d2a2-a071-49ab-8abc-95bbe513c265"
      },
      "execution_count": 4,
      "outputs": [
        {
          "output_type": "stream",
          "name": "stdout",
          "text": [
            "  % Total    % Received % Xferd  Average Speed   Time    Time     Time  Current\n",
            "                                 Dload  Upload   Total   Spent    Left  Speed\n",
            "100 1337k  100 1337k    0     0  4574k      0 --:--:-- --:--:-- --:--:-- 4580k\n"
          ]
        }
      ]
    },
    {
      "cell_type": "code",
      "source": [
        "x = speech2txt('./test.mp3')\n",
        "x"
      ],
      "metadata": {
        "colab": {
          "base_uri": "https://localhost:8080/",
          "height": 123
        },
        "id": "Rw4gX7vPP6M8",
        "outputId": "14097b65-a73a-4556-ec0b-5abd58db0b9f"
      },
      "execution_count": 17,
      "outputs": [
        {
          "output_type": "execute_result",
          "data": {
            "text/plain": [
              "' Praise be to Allah. Praise be to Allah who taught with a pen. He taught man what he did not know. And who created everything and estimated it with appreciation. And peace and blessings be upon you. I seek refuge with Allah from the virtue of knowledge and His people. Praise be to Allah and praise be to Allah. Indeed, our religion is the religion of Islam, the religion of knowledge and knowledge. Where Islam came and the nations were lost in the Quran So this verse was the first light in this dark night. Then the believing verses came to light that this religion is the religion of the knowledge of the blind. So he invites his people to the knowledge and dispels them from the darkness. So the Ummah turned into the Ummah of knowledge and light. Allah Almighty said worship the chosen face except with knowledge. The Ummah cannot be straight on the correct path except with knowledge. My beloved in Allah, there are many Quranic verses and many prophetic hadiths, all of them are doubtless that those who are given knowledge are the best in this nation forever. As Allah says, Allah raises those who believe from you and those who give knowledge in degrees. Some interpreters say in this verse, Allah raises the believer who is a scholar to the believer who is not a scholar. The people of knowledge are those who fear Allah on the face of this noble verse, we will realize that the secret of Sharia. They have been proud of the worldly sciences over the religious sciences and they are proud of it. Although the pride and the virtue of the religious knowledge that makes it easy for its owner to go to the way to which Allah Almighty said Allah Almighty ordered us to increase knowledge and it is sufficient for knowledge. Allah Almighty ordered His Prophet to say, and say my Lord increase me knowledge He always encourages his companions to learn the Sharia knowledge. He said in a hadith, the Prophet said, and does not decrease the level of honor and dignity. A little of it benefits and a lot of it makes him proud and exalts. A treasure that is purified in every way and that is more than the benefit. And neither does he be angry nor is he afraid of a thief or a thief. So he strived to obtain it and he was able to overcome the difficulty in his memorization and his teaching, and he put the long line in his collection, and he put the effort in his narrations and his interpretation, and then he moved on to his understanding and his interpretation. Dear beloved ones, there are many texts, and many evidences, and clear ev clear, which is a sign of his honour and honour in both houses. If I had taken all of them to you, this time would not have been enough for me. So, I conclude my speech with this great speech, which is from Allah, the Exalted, that He makes us and you among those who listen to the speech and follow the best and the last of our supplication. All praise be to Allah, Lord of the worlds.'"
            ],
            "application/vnd.google.colaboratory.intrinsic+json": {
              "type": "string"
            }
          },
          "metadata": {},
          "execution_count": 17
        }
      ]
    },
    {
      "cell_type": "code",
      "source": [
        "ar = en2ar(x)"
      ],
      "metadata": {
        "colab": {
          "base_uri": "https://localhost:8080/"
        },
        "id": "g3W3tg09fS67",
        "outputId": "e38bd41b-d4ef-4976-8b39-eb58bc37f5ad"
      },
      "execution_count": 29,
      "outputs": [
        {
          "output_type": "stream",
          "name": "stdout",
          "text": [
            "['الحمد لله. الحمد لله الذي علّم بقلم. علّم الانسان ما لم يعرفه. وخلّق كل شيء وقيّمه بتقدير. والسلام والبركات عليكم. الجأ الى الله من فضل العلم وشعبه. الحمد لله والتسبيح لله. ان ديننا هو دين الاسلام ودين العلم والمعرفة.', 'حيث جاء الإسلام وخسرت الأمم في القرآن، كانت هذه الآية أول نور في هذه الليلة المظلمة، ثم أظهرت آيات الإيمان أن هذا الدين دين معرفة العمي، فدعا شعبه إلى العلم وصرفهم عن الظلمة، فتحولت الأمة إلى أمة العلم والنور، وقال الله تعالى تعالى اعبد الوجه المختار إلا بعلم.', 'لا يمكن للأمة أن تكون مستقيمة على الطريق الصحيح إلا بالعلم. يا أعزائي في الله هناك العديد من الآيات القرآنية والكثير من التعاليم النبوية كلها شك في أن الذين أعطوا العلم هم الأفضل في هذه الأمة إلى الأبد. كما يقول الله يُرِق الله المؤمنين منكم والمعطين العلم بالدرجات. يقول المترجمون في هذا الآية إن الله يُرِق المؤمن الذي هو عالم للمؤمن الذي ليس بعالم.', 'إن أصحاب العلم هم الذين يتقون الله على وجه هذا القرآن الكريم، سندرك أن سر الشريعة قد افتخروا بالعلوم العالمية في العلوم الدينية وهم فخورون بها، وإن كان فخر وميزة المعرفة الدينية التي تسهل على مالكها السير إلى الطريق الذي قال الله تعالى تعالى فيه إن الله تعالى أمرنا بزيادة المعرفة وتكفي المعرفة.', 'وقد أمر الله تعالى رسوله أن يقول، وقال ربي يزيدني علماً، إنه دائماً ما يشجع أصحابه على تعلم العلم الشرعي، وقال في حاصد، قال النبي، وهو لا يقلل من مستوى الشرف والكرامة، وقليلاً منه يعود عليه بالفوائد والكثير منه يجعله فخوراً ومرتفعاً، وكنزاً نقياً في كل سبيل وما هو أكثر من المنفعة، ولا يغضب ولا يخاف لصاً ولا سارقاً.', 'فسعى للحصول عليه وتمكن من التغلب على صعوبة حفظه وتعليمه، ووضع الخط الطويل في مجموعته، وبذل الجهد في تأويله وتأويله، ثم انتقل إلى فهمه وتأويله. يا أعزائي الأعزاء، هناك نصوص كثيرة وأدلة كثيرة، وأدلة واضحة واضحة، وهي علامة على شرفه وشرفه في كلا البيتين.', 'لو كنت قد اخذتهم جميعا اليكم ما كان ليكفي هذا الوقت. فاختتم كلامي بهذا الكلام العظيم الذي هو من الله الذي قدّس انه يجعلنا وانتم من الذين يسمعون الكلام ويتبعون افضل واخر دعاءنا. كل تسبيح لله رب العالمين.']\n"
          ]
        }
      ]
    },
    {
      "cell_type": "code",
      "source": [
        "en = ar2en(ar)"
      ],
      "metadata": {
        "colab": {
          "base_uri": "https://localhost:8080/"
        },
        "id": "_DuERPgWptyF",
        "outputId": "54e1a5de-b6a7-4ec3-b626-7f676ff589af"
      },
      "execution_count": 30,
      "outputs": [
        {
          "output_type": "stream",
          "name": "stdout",
          "text": [
            "[\"Praise be to God. Praise be to God, who taught by pen. He taught man what he didn't know. He created and assessed all things with appreciation. Peace and blessings be upon you. He came to God out of the grace of science and his people.\", 'Our religion is Islam and the religion of science and knowledge. Where Islam came and nations were lost in the Koran, this was the first light on this dark night, and the signs of faith showed that this religion is a religion of knowledge of the blind. He called on his people to learn and to keep them from the darkness, and the nation came to the nation of science and light.', 'Dear God, there are many Koranic verses and many prophetic teachings all doubt that those who have given knowledge are the best in this nation for ever. As God says, God loves those who believe in you and those who give knowledge of degrees.', 'It is the people of science who fear God in the face of this Holy Koran that we will realize that the secret of the Shariah has been proud of and proud of the world\\'s science of religion, although the pride and virtue of religious knowledge that makes it easier for the owner to walk on the path in which God said that God Almighty has ordered us to increase knowledge and suffice knowledge. God has commanded His Messenger to say, \"My Lord makes me more aware that he always encourages his owners to learn forensic science, and says in a reaper, the prophet, who does not diminish the level of honour and dignity, a few of whom he returns with benefits, many of which make him proud and high, and a pure treasure in every way and more useful, and does not anger and fear a thief or thief.', 'Dear darlings, there are many texts and many evidence, and clear evidence, which is a sign of his honour and his honour in both houses. If I had taken them all to you, it would not have been enough of this time. I will conclude with this great talk, which is from God, who has holy that he makes us and you who hear the words and follow our best and last prayer. All praise to God, the Lord of the Worlds.']\n"
          ]
        }
      ]
    },
    {
      "cell_type": "code",
      "source": [
        "en"
      ],
      "metadata": {
        "colab": {
          "base_uri": "https://localhost:8080/",
          "height": 123
        },
        "id": "8tS7CEhop92T",
        "outputId": "0bd124f4-e237-4de7-db48-ae669488264b"
      },
      "execution_count": 32,
      "outputs": [
        {
          "output_type": "execute_result",
          "data": {
            "text/plain": [
              "'Praise be to God. Praise be to God, who taught by pen. He taught man what he didn\\'t know. He created and assessed all things with appreciation. Peace and blessings be upon you. He came to God out of the grace of science and his people.Our religion is Islam and the religion of science and knowledge. Where Islam came and nations were lost in the Koran, this was the first light on this dark night, and the signs of faith showed that this religion is a religion of knowledge of the blind. He called on his people to learn and to keep them from the darkness, and the nation came to the nation of science and light.Dear God, there are many Koranic verses and many prophetic teachings all doubt that those who have given knowledge are the best in this nation for ever. As God says, God loves those who believe in you and those who give knowledge of degrees.It is the people of science who fear God in the face of this Holy Koran that we will realize that the secret of the Shariah has been proud of and proud of the world\\'s science of religion, although the pride and virtue of religious knowledge that makes it easier for the owner to walk on the path in which God said that God Almighty has ordered us to increase knowledge and suffice knowledge. God has commanded His Messenger to say, \"My Lord makes me more aware that he always encourages his owners to learn forensic science, and says in a reaper, the prophet, who does not diminish the level of honour and dignity, a few of whom he returns with benefits, many of which make him proud and high, and a pure treasure in every way and more useful, and does not anger and fear a thief or thief.Dear darlings, there are many texts and many evidence, and clear evidence, which is a sign of his honour and his honour in both houses. If I had taken them all to you, it would not have been enough of this time. I will conclude with this great talk, which is from God, who has holy that he makes us and you who hear the words and follow our best and last prayer. All praise to God, the Lord of the Worlds.'"
            ],
            "application/vnd.google.colaboratory.intrinsic+json": {
              "type": "string"
            }
          },
          "metadata": {},
          "execution_count": 32
        }
      ]
    }
  ]
}